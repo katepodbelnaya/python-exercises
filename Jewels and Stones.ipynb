{
 "cells": [
  {
   "cell_type": "markdown",
   "metadata": {},
   "source": [
    "**Jewels and Stones**\n",
    "\n",
    "You're given strings J representing the types of stones that are jewels, and S representing the stones you have. Each character in S is a type of stone you have.  You want to know how many of the stones you have are also jewels.\n",
    "\n",
    "\n",
    "The letters in J are guaranteed distinct, and all characters in J and S are letters. Letters are case sensitive, so \"a\" is considered a different type of stone from \"A\".\n",
    "\n",
    "**Example 1:**\n",
    "\n",
    "\n",
    "Input: J = \"aA\", S = \"aAAbbbb\"\n",
    "\n",
    "\n",
    "Output: 3\n",
    "\n",
    "**Example 2:\n",
    "\n",
    "\n",
    "Input: J = \"z\", S = \"ZZ\"\n",
    "\n",
    "\n",
    "Output: 0\n",
    "\n",
    "\n",
    "**Note:**\n",
    "\n",
    "\n",
    "S and J will consist of letters and have length at most 50.\n",
    "\n",
    "\n",
    "The characters in J are distinct."
   ]
  },
  {
   "cell_type": "code",
   "execution_count": 18,
   "metadata": {},
   "outputs": [],
   "source": [
    "def numJewelsInStones(J, S):\n",
    "    S_dic = {}\n",
    "    for letter in S:\n",
    "        if letter in S_dic.keys():\n",
    "            S_dic[letter] +=1\n",
    "        else:\n",
    "            S_dic[letter] = 1\n",
    "\n",
    "    inter = set(J).intersection(S)\n",
    "\n",
    "    counter = 0\n",
    "    for stone in inter:\n",
    "        counter += S_dic[stone]\n",
    "    \n",
    "    return counter"
   ]
  },
  {
   "cell_type": "code",
   "execution_count": 19,
   "metadata": {},
   "outputs": [
    {
     "data": {
      "text/plain": [
       "3"
      ]
     },
     "execution_count": 19,
     "metadata": {},
     "output_type": "execute_result"
    }
   ],
   "source": [
    "J = \"aA\"\n",
    "S = \"aAAbbbb\"\n",
    "\n",
    "numJewelsInStones(J,S)\n"
   ]
  },
  {
   "cell_type": "code",
   "execution_count": 20,
   "metadata": {},
   "outputs": [
    {
     "data": {
      "text/plain": [
       "0"
      ]
     },
     "execution_count": 20,
     "metadata": {},
     "output_type": "execute_result"
    }
   ],
   "source": [
    "J = \"z\"\n",
    "S = \"ZZ\"\n",
    "\n",
    "numJewelsInStones(J,S)"
   ]
  },
  {
   "cell_type": "code",
   "execution_count": null,
   "metadata": {},
   "outputs": [],
   "source": []
  }
 ],
 "metadata": {
  "kernelspec": {
   "display_name": "Python 3",
   "language": "python",
   "name": "python3"
  },
  "language_info": {
   "codemirror_mode": {
    "name": "ipython",
    "version": 3
   },
   "file_extension": ".py",
   "mimetype": "text/x-python",
   "name": "python",
   "nbconvert_exporter": "python",
   "pygments_lexer": "ipython3",
   "version": "3.7.0"
  }
 },
 "nbformat": 4,
 "nbformat_minor": 2
}
