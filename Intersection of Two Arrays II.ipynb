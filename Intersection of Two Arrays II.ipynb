{
 "cells": [
  {
   "cell_type": "markdown",
   "metadata": {},
   "source": [
    "Given two arrays, write a function to compute their intersection.\n",
    "\n",
    "Example 1:\n",
    "Input: nums1 = [1,2,2,1], nums2 = [2,2]\n",
    "Output: [2,2]\n",
    "\n",
    "Note:\n",
    "Each element in the result should appear as many times as it shows in both arrays.\n",
    "The result can be in any order."
   ]
  },
  {
   "cell_type": "code",
   "execution_count": 84,
   "metadata": {},
   "outputs": [],
   "source": [
    "def intersect(num1, num2):\n",
    "\n",
    "    dic1 = {}\n",
    "    for n in num1:\n",
    "        if n in dic1.keys():\n",
    "            dic1[n] += 1\n",
    "        else:\n",
    "            dic1[n] = 1\n",
    "\n",
    "    dic2 = {}\n",
    "    for n in num2:\n",
    "        if n in dic2.keys():\n",
    "            dic2[n] += 1\n",
    "        else:\n",
    "            dic2[n] = 1\n",
    "\n",
    "    inter = set(num1).intersection(num2)\n",
    "\n",
    "    nums = []\n",
    "    for item in inter:\n",
    "        nums += ([item] * min(dic1[item],dic2[item]))\n",
    "        \n",
    "    return nums"
   ]
  },
  {
   "cell_type": "code",
   "execution_count": 86,
   "metadata": {},
   "outputs": [
    {
     "data": {
      "text/plain": [
       "[2]"
      ]
     },
     "execution_count": 86,
     "metadata": {},
     "output_type": "execute_result"
    }
   ],
   "source": [
    "intersect([1,2,2,1], [2])"
   ]
  },
  {
   "cell_type": "code",
   "execution_count": null,
   "metadata": {},
   "outputs": [],
   "source": []
  }
 ],
 "metadata": {
  "kernelspec": {
   "display_name": "Python 3",
   "language": "python",
   "name": "python3"
  },
  "language_info": {
   "codemirror_mode": {
    "name": "ipython",
    "version": 3
   },
   "file_extension": ".py",
   "mimetype": "text/x-python",
   "name": "python",
   "nbconvert_exporter": "python",
   "pygments_lexer": "ipython3",
   "version": "3.7.0"
  }
 },
 "nbformat": 4,
 "nbformat_minor": 2
}
